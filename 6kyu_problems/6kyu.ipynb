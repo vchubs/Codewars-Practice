{
 "cells": [
  {
   "cell_type": "markdown",
   "metadata": {},
   "source": [
    "Welcome.\n",
    "\n",
    "In this kata you are required to, given a string, replace every letter with its position in the alphabet.\n",
    "\n",
    "If anything in the text isn't a letter, ignore it and don't return it."
   ]
  },
  {
   "cell_type": "code",
   "execution_count": 2,
   "metadata": {},
   "outputs": [
    {
     "data": {
      "text/plain": [
       "'hello world'"
      ]
     },
     "execution_count": 2,
     "metadata": {},
     "output_type": "execute_result"
    }
   ],
   "source": [
    "def alphabet_position(text):\n",
    "    text = text.lower().strip()\n",
    "    return_text = \"\"\n",
    "    for letter in text:\n",
    "        \n",
    "    return"
   ]
  },
  {
   "cell_type": "markdown",
   "metadata": {},
   "source": [
    "You live in the city of Cartesia where all roads are laid out in a perfect grid. You arrived ten minutes too early to an appointment, so you decided to take the opportunity to go for a short walk. The city provides its citizens with a Walk Generating App on their phones -- everytime you press the button it sends you an array of one-letter strings representing directions to walk (eg. ['n', 's', 'w', 'e']). You always walk only a single block for each letter (direction) and you know it takes you one minute to traverse one city block, so create a function that will return true if the walk the app gives you will take you exactly ten minutes (you don't want to be early or late!) and will, of course, return you to your starting point. Return false otherwise.\n",
    "\n",
    "Note: you will always receive a valid array containing a random assortment of direction letters ('n', 's', 'e', or 'w' only). It will never give you an empty array (that's not a walk, that's standing still!)."
   ]
  },
  {
   "cell_type": "code",
   "execution_count": 1,
   "metadata": {},
   "outputs": [],
   "source": [
    "def is_valid_walk(walk):\n",
    "    n_s_position = 0\n",
    "    e_w_position = 0\n",
    "    counter=0\n",
    "    for item in walk:\n",
    "        if item==\"n\":    \n",
    "            n_s_position +=1\n",
    "        elif item == \"s\":\n",
    "            n_s_position -=1\n",
    "        elif item == \"e\":\n",
    "            e_w_position +=1\n",
    "        elif item ==\"w\":\n",
    "            e_w_position -=1\n",
    "        counter +=1\n",
    "    return n_s_position == 0 and e_w_position ==0 and counter ==10"
   ]
  }
 ],
 "metadata": {
  "kernelspec": {
   "display_name": "Python 3",
   "language": "python",
   "name": "python3"
  },
  "language_info": {
   "codemirror_mode": {
    "name": "ipython",
    "version": 3
   },
   "file_extension": ".py",
   "mimetype": "text/x-python",
   "name": "python",
   "nbconvert_exporter": "python",
   "pygments_lexer": "ipython3",
   "version": "3.11.9"
  }
 },
 "nbformat": 4,
 "nbformat_minor": 2
}
